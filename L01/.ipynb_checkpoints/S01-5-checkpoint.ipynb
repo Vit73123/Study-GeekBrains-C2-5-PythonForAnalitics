{
 "cells": [
  {
   "cell_type": "markdown",
   "metadata": {},
   "source": [
    "#  Задание 5\n",
    "## 5.1. Найдите картинку в интернете и прикрепите её в ячейку с текстом\n",
    "(см. Задание в презентации к Семинару)"
   ]
  },
  {
   "cell_type": "markdown",
   "metadata": {},
   "source": [
    "## 5.2. Создайте следующую таблицу в ячейке стекстом\n",
    "(см. Задание в презентации к Семинару)"
   ]
  },
  {
   "cell_type": "code",
   "execution_count": null,
   "metadata": {},
   "outputs": [],
   "source": []
  }
 ],
 "metadata": {
  "kernelspec": {
   "display_name": "Python 3",
   "language": "python",
   "name": "python3"
  },
  "language_info": {
   "codemirror_mode": {
    "name": "ipython",
    "version": 3
   },
   "file_extension": ".py",
   "mimetype": "text/x-python",
   "name": "python",
   "nbconvert_exporter": "python",
   "pygments_lexer": "ipython3",
   "version": "3.7.4"
  }
 },
 "nbformat": 4,
 "nbformat_minor": 2
}
