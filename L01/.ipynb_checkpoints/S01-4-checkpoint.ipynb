{
 "cells": [
  {
   "cell_type": "markdown",
   "metadata": {},
   "source": [
    "# Задание 4\n",
    "## 4.1. Сгенерируйте случайные целые числа от 0 до 100 в количестве 5 штук с помощью модуля random\n",
    "* Зафиксируйте псевдогенерацию, чтобы сгенерированные значеня всегда были одинаковые\n",
    "* Используйте list comprehensions"
   ]
  },
  {
   "cell_type": "markdown",
   "metadata": {},
   "source": [
    "## Импорт библиотек\n",
    "Возможные варианты импорта:"
   ]
  },
  {
   "cell_type": "markdown",
   "metadata": {},
   "source": [
    "    import random\n",
    "    random.randint(0, 10)\n",
    "    random.seed(10)"
   ]
  },
  {
   "cell_type": "markdown",
   "metadata": {},
   "source": [
    "    from random import randint, seed # Оптимально - импортировать отдельно каждый метод\n",
    "    randint(0, 10)\n",
    "    seed(42)"
   ]
  },
  {
   "cell_type": "markdown",
   "metadata": {},
   "source": [
    "    from random import randint as ri\n",
    "    ri(0, 10)"
   ]
  },
  {
   "cell_type": "markdown",
   "metadata": {},
   "source": [
    "    from random import * # Так делать плохо!"
   ]
  },
  {
   "cell_type": "code",
   "execution_count": 64,
   "metadata": {},
   "outputs": [],
   "source": [
    "from random import randint, seed"
   ]
  },
  {
   "cell_type": "code",
   "execution_count": 65,
   "metadata": {},
   "outputs": [
    {
     "data": {
      "text/plain": [
       "[81, 14, 3, 94, 35]"
      ]
     },
     "execution_count": 65,
     "metadata": {},
     "output_type": "execute_result"
    }
   ],
   "source": [
    "seed(42)\n",
    "data = [randint(0, 100) for i in range(5)]\n",
    "data"
   ]
  },
  {
   "cell_type": "markdown",
   "metadata": {},
   "source": [
    "    # Когда не нужен счётчик цикла, вместо него можно использовать '_'\n",
    "    data = [randint(0, 100) for _ in range(5)]"
   ]
  },
  {
   "cell_type": "markdown",
   "metadata": {},
   "source": [
    "## 4.2. Напишите генератор\n",
    "* Генератор на вход принимает список с  данными о клиенте (данные из пункта 4.1)\n",
    "* Внутри генератора реализуйте обход по списку с данными\n",
    "\n",
    "На каждой итерации гереатор будет возвращать кортеж из 2-х элементов:\n",
    "\n",
    "1. данные по клиенту (в зависимости от итерации, на 0 итерации вернётся 0 элемент, на 1 итерации вернётся 1 элемент и т.д.)\n",
    "2. целочисленное значение, которое показывает, сколько секунд прошло с предыдущей итерации\n",
    "\n",
    "Примечание:  \n",
    "секунды, которые возвращаются должны показывать время не с начала запуска генератора, а именно то \n",
    "время, которое прошло с предыдущей итерации. А значит время на первой итерации должно равняться 0.\n",
    "\n",
    "* Используйте функцию time из модуля time для подсчёта времени\n",
    "* Чтобы проверить работу таймера, запустите проход по генератору в цикле с time.sleep(2)"
   ]
  },
  {
   "cell_type": "code",
   "execution_count": 78,
   "metadata": {},
   "outputs": [],
   "source": [
    "import time\n",
    "import random"
   ]
  },
  {
   "cell_type": "code",
   "execution_count": 79,
   "metadata": {},
   "outputs": [],
   "source": [
    "def generator(data: list):\n",
    "    last_time = None\n",
    "    for item in data:\n",
    "        current_time = time.time()\n",
    "        if last_time:\n",
    "            delta = current_time - last_time\n",
    "        else:\n",
    "            delta = 0\n",
    "        last_time = time.time()\n",
    "        yield(delta, item)\n",
    "        print('*' * 50)\n",
    "        print(item)"
   ]
  },
  {
   "cell_type": "code",
   "execution_count": 80,
   "metadata": {},
   "outputs": [
    {
     "name": "stdout",
     "output_type": "stream",
     "text": [
      "**************************************************\n",
      "81\n",
      "**************************************************\n",
      "14\n",
      "**************************************************\n",
      "3\n",
      "**************************************************\n",
      "94\n",
      "**************************************************\n",
      "35\n",
      "(0, 81) (0.0010001659393310547, 14) (0.0004999637603759766, 3) (0.0010004043579101562, 94) (0.0005002021789550781, 35)\n"
     ]
    }
   ],
   "source": [
    "print(*generator(data))"
   ]
  },
  {
   "cell_type": "code",
   "execution_count": 81,
   "metadata": {},
   "outputs": [
    {
     "name": "stdout",
     "output_type": "stream",
     "text": [
      "(0, 81)\n",
      "**************************************************\n",
      "81\n",
      "(2.00175404548645, 14)\n",
      "**************************************************\n",
      "14\n",
      "(2.0017542839050293, 3)\n",
      "**************************************************\n",
      "3\n",
      "(2.0017542839050293, 94)\n",
      "**************************************************\n",
      "94\n",
      "(2.00175404548645, 35)\n",
      "**************************************************\n",
      "35\n"
     ]
    }
   ],
   "source": [
    "for obj in generator(data):\n",
    "    print(obj)\n",
    "    time.sleep(2)"
   ]
  },
  {
   "cell_type": "markdown",
   "metadata": {},
   "source": [
    "Генератор можно задать, просто указав его код экруглых скобках '()'"
   ]
  },
  {
   "cell_type": "code",
   "execution_count": 82,
   "metadata": {},
   "outputs": [],
   "source": [
    "gener = (item for item in data)"
   ]
  },
  {
   "cell_type": "code",
   "execution_count": 83,
   "metadata": {},
   "outputs": [
    {
     "name": "stdout",
     "output_type": "stream",
     "text": [
      "81 14 3 94 35\n"
     ]
    }
   ],
   "source": [
    "print(*gener)"
   ]
  },
  {
   "cell_type": "code",
   "execution_count": null,
   "metadata": {},
   "outputs": [],
   "source": []
  }
 ],
 "metadata": {
  "kernelspec": {
   "display_name": "Python 3",
   "language": "python",
   "name": "python3"
  },
  "language_info": {
   "codemirror_mode": {
    "name": "ipython",
    "version": 3
   },
   "file_extension": ".py",
   "mimetype": "text/x-python",
   "name": "python",
   "nbconvert_exporter": "python",
   "pygments_lexer": "ipython3",
   "version": "3.7.4"
  }
 },
 "nbformat": 4,
 "nbformat_minor": 2
}
