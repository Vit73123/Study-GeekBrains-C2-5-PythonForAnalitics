{
 "cells": [
  {
   "cell_type": "markdown",
   "metadata": {},
   "source": [
    "# Задание 1\n",
    "## 1.1. Соедините два словаря в один"
   ]
  },
  {
   "cell_type": "code",
   "execution_count": 77,
   "metadata": {},
   "outputs": [],
   "source": [
    "dict1 = {'One': 1, 'Two': 2, 'Three': 3}\n",
    "dict2 = {'Four': 4, 'Five': 5, 'Six': 6}"
   ]
  },
  {
   "cell_type": "code",
   "execution_count": 78,
   "metadata": {},
   "outputs": [],
   "source": [
    "dict1.update(dict2)"
   ]
  },
  {
   "cell_type": "code",
   "execution_count": 79,
   "metadata": {
    "scrolled": true
   },
   "outputs": [
    {
     "data": {
      "text/plain": [
       "{'One': 1, 'Two': 2, 'Three': 3, 'Four': 4, 'Five': 5, 'Six': 6}"
      ]
     },
     "execution_count": 79,
     "metadata": {},
     "output_type": "execute_result"
    }
   ],
   "source": [
    "dict1"
   ]
  },
  {
   "cell_type": "code",
   "execution_count": 80,
   "metadata": {},
   "outputs": [],
   "source": [
    "dict1 = {'One': 1, 'Two': 2, 'Three': 3}\n",
    "dict2 = {'Four': 4, 'Five': 5, 'Six': 6}"
   ]
  },
  {
   "cell_type": "markdown",
   "metadata": {},
   "source": [
    ">dict1 | dict2 # Операция | доступна в Python 3.9 и выше  \n",
    ">dict1\n",
    ">dict3 = dict1 | dict2"
   ]
  },
  {
   "cell_type": "markdown",
   "metadata": {},
   "source": [
    ">dict1 = dict1 | dict2 # Операция | доступна в Python 3.9 и выше  \n",
    ">dict1\n",
    ">dict3 = dict1 | dict2"
   ]
  },
  {
   "cell_type": "markdown",
   "metadata": {},
   "source": [
    "## 1.2. Напишите функцию, которая на вход принимает два словаря и возвращает один объединённый словарь"
   ]
  },
  {
   "cell_type": "code",
   "execution_count": 81,
   "metadata": {},
   "outputs": [
    {
     "data": {
      "text/plain": [
       "{'One': 1, 'Two': 2, 'Three': 3, 'Four': 4, 'Five': 5, 'Six': 6}"
      ]
     },
     "execution_count": 81,
     "metadata": {},
     "output_type": "execute_result"
    }
   ],
   "source": [
    "def change_dict(dict_1: dict, dict_2: dict) -> dict:\n",
    "    dict_1.update(dict_2)\n",
    "    return dict_1\n",
    "d4 = change_dict(dict1, dict2)\n",
    "d4"
   ]
  },
  {
   "cell_type": "code",
   "execution_count": 82,
   "metadata": {},
   "outputs": [
    {
     "data": {
      "text/plain": [
       "{'One': 2,\n",
       " 'Two': 23,\n",
       " 'Three': 45,\n",
       " '|||': 7,\n",
       " 'Four': 235,\n",
       " 'Five': 386,\n",
       " 'Six': 478358}"
      ]
     },
     "execution_count": 82,
     "metadata": {},
     "output_type": "execute_result"
    }
   ],
   "source": [
    "d4 = {'One': 2, 'Two': 23, 'Three': 45, '|||': 7, 'Four': 235, 'Five': 386, 'Six': 478358}\n",
    "d4"
   ]
  },
  {
   "cell_type": "code",
   "execution_count": 83,
   "metadata": {},
   "outputs": [
    {
     "data": {
      "text/plain": [
       "{'One': 2,\n",
       " 'Two': 23,\n",
       " 'Three': 45,\n",
       " 'Four': 235,\n",
       " 'Five': 386,\n",
       " 'Six': 478358,\n",
       " '|||': 7}"
      ]
     },
     "execution_count": 83,
     "metadata": {},
     "output_type": "execute_result"
    }
   ],
   "source": [
    "change_dict(dict1, d4)"
   ]
  },
  {
   "cell_type": "code",
   "execution_count": 84,
   "metadata": {},
   "outputs": [
    {
     "data": {
      "text/plain": [
       "{'One': 2,\n",
       " 'Two': 23,\n",
       " 'Three': 45,\n",
       " 'Four': 235,\n",
       " 'Five': 386,\n",
       " 'Six': 478358,\n",
       " '|||': 7}"
      ]
     },
     "execution_count": 84,
     "metadata": {},
     "output_type": "execute_result"
    }
   ],
   "source": [
    "dict1"
   ]
  },
  {
   "cell_type": "code",
   "execution_count": 85,
   "metadata": {},
   "outputs": [
    {
     "data": {
      "text/plain": [
       "{'One': 2,\n",
       " 'Two': 23,\n",
       " 'Three': 45,\n",
       " '|||': 7,\n",
       " 'Four': 235,\n",
       " 'Five': 386,\n",
       " 'Six': 478358}"
      ]
     },
     "execution_count": 85,
     "metadata": {},
     "output_type": "execute_result"
    }
   ],
   "source": [
    "d4"
   ]
  },
  {
   "cell_type": "code",
   "execution_count": 86,
   "metadata": {},
   "outputs": [
    {
     "data": {
      "text/plain": [
       "{'One': 2,\n",
       " 'Two': 23,\n",
       " 'Three': 45,\n",
       " '|||': 7,\n",
       " 'Four': 235,\n",
       " 'Five': 386,\n",
       " 'Six': 478358}"
      ]
     },
     "execution_count": 86,
     "metadata": {},
     "output_type": "execute_result"
    }
   ],
   "source": [
    "change_dict(d4, dict1)"
   ]
  },
  {
   "cell_type": "code",
   "execution_count": 87,
   "metadata": {},
   "outputs": [
    {
     "data": {
      "text/plain": [
       "{'One': 2,\n",
       " 'Two': 23,\n",
       " 'Three': 45,\n",
       " '|||': 7,\n",
       " 'Four': 235,\n",
       " 'Five': 386,\n",
       " 'Six': 478358}"
      ]
     },
     "execution_count": 87,
     "metadata": {},
     "output_type": "execute_result"
    }
   ],
   "source": [
    "d4"
   ]
  },
  {
   "cell_type": "code",
   "execution_count": 89,
   "metadata": {},
   "outputs": [],
   "source": [
    "dict1 = {'One': 1, 'Two': 2, 'Three': 3, '|||': 7}"
   ]
  },
  {
   "cell_type": "code",
   "execution_count": null,
   "metadata": {},
   "outputs": [],
   "source": []
  }
 ],
 "metadata": {
  "kernelspec": {
   "display_name": "Python 3",
   "language": "python",
   "name": "python3"
  },
  "language_info": {
   "codemirror_mode": {
    "name": "ipython",
    "version": 3
   },
   "file_extension": ".py",
   "mimetype": "text/x-python",
   "name": "python",
   "nbconvert_exporter": "python",
   "pygments_lexer": "ipython3",
   "version": "3.7.4"
  }
 },
 "nbformat": 4,
 "nbformat_minor": 2
}
